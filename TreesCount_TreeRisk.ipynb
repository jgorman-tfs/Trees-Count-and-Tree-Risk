{
 "cells": [
  {
   "cell_type": "markdown",
   "metadata": {},
   "source": [
    "# Tree's Count and Tree Risk\n",
    "## This script takes Tree Count and Tree Risk PDF reports from the specified folder and extracts information neccessary to map the reports. It then updates the corresponding feature layer. The only thing you need to do is delete duplicate PDF's and copy them into the corresponding folder. Then run through the scripts. Once the scripts have been run, verify changes have been made to the layer in AGOL and update the title to reflect changes. Send the email."
   ]
  },
  {
   "cell_type": "markdown",
   "metadata": {
    "heading_collapsed": true
   },
   "source": [
    "## Trees Count"
   ]
  },
  {
   "cell_type": "code",
   "execution_count": 13,
   "metadata": {
    "hidden": true
   },
   "outputs": [
    {
     "name": "stdout",
     "output_type": "stream",
     "text": [
      "D:\\ArcGIS_Projects\\TreesCount\\9_2024.csv\n"
     ]
    }
   ],
   "source": [
    "from datetime import datetime, timedelta\n",
    "import pdfplumber\n",
    "import os\n",
    "import re\n",
    "import pandas as pd\n",
    "arcpy.env.overwriteOutput = True\n",
    "current_time = datetime.now()\n",
    "current_month = current_time.month\n",
    "current_year = current_time.year\n",
    "\n",
    "pdf_dir_count = r'D:\\ArcGIS_Projects\\TreesCount\\PDFs\\TreesCount'\n",
    "\n",
    "#empty list for final excel output\n",
    "data = []\n",
    "#variables to combine that creates a link to the sharepoint report\n",
    "base_url = \"https://texasforestservice.sharepoint.com/sites/Share-ForestAnalytics/Documents/Geospatial Systems/Texas Forest Info/TreesCount/\"\n",
    "html_start = \"<a href = \"\n",
    "html_end = \">Click Here </a>\"\n",
    "apos = \"'\"\n",
    "spatial_ref = arcpy.SpatialReference(4326)\n",
    "xy_feature = rf'D:\\ArcGIS_Projects\\TreesCount\\Code\\Data\\TreesCount.gdb\\XYTableToPoint_{current_month}_{current_year}_count'\n",
    "csv_path = rf'D:\\ArcGIS_Projects\\TreesCount\\{current_month}_{current_year}_count.csv'"
   ]
  },
  {
   "cell_type": "code",
   "execution_count": 14,
   "metadata": {
    "hidden": true
   },
   "outputs": [
    {
     "name": "stdout",
     "output_type": "stream",
     "text": [
      "Done, run next cell\n"
     ]
    }
   ],
   "source": [
    "#run through the folder and look for pdfs\n",
    "for pdf_file in os.listdir(pdf_dir_count):\n",
    "    if pdf_file.endswith('.pdf'):\n",
    "        pdf_file_path = os.path.join(pdf_dir_count, pdf_file)\n",
    "\n",
    "        with pdfplumber.open(pdf_file_path) as pdf:\n",
    "            file_name = os.path.basename(pdf_file)\n",
    "            file_name_sharepoint = html_start + apos + base_url + file_name + apos + html_end   \n",
    "            file_date = file_name[:8]                                                           \n",
    "            date_object = datetime.strptime(file_date, \"%Y%m%d\").date()                         \n",
    "            day_before = date_object - timedelta(days=1)                                        \n",
    "\n",
    "            month = date_object.strftime(\"%m\").lstrip('0')                                      \n",
    "            day = date_object.strftime(\"%d\").lstrip(\"0\")                                        \n",
    "            date_string = f\"{month}/{day}\"                                                      \n",
    "            backwards_date_string = f\"{day}/{month}\"                                            \n",
    "\n",
    "            month_daybefore = day_before.strftime(\"%m\").lstrip('0')                             \n",
    "            day_daybefore = day_before.strftime(\"%d\").lstrip(\"0\")\n",
    "            day_before_string = f\"{month_daybefore}/{day_daybefore}\"\n",
    "            backwards_day_before_string = f\"{day_daybefore}/{month_daybefore}\"\n",
    "\n",
    "            float_pattern = r\"-?\\d{1,3}\\.\\d{3,}\"                                                \n",
    "            count = 0                                                                            \n",
    "            first_float = None                                                                   \n",
    "            second_float = None                                                                  \n",
    "\n",
    "            for page in pdf.pages:\n",
    "                text = page.extract_text()\n",
    "\n",
    "                if date_string in text:                                                            \n",
    "                    count += text.count(date_string)                                               \n",
    "                elif count == 0 and day_before_string in text:\n",
    "                    count += text.count(day_before_string)\n",
    "                elif count == 0 and backwards_date_string in text:\n",
    "                    count += text.count(backwards_date_string)\n",
    "                elif count == 0 and backwards_day_before_string in text:\n",
    "                    count += text.count(backwards_day_before_string)\n",
    "\n",
    "                if page.page_number == 2:                                                           \n",
    "                    float_matches = re.findall(float_pattern, text)\n",
    "\n",
    "                    if len(float_matches) >= 2:\n",
    "                        first_float = float_matches[0]\n",
    "                        second_float = float_matches[1]\n",
    "\n",
    "            # Append the data to the list\n",
    "            data.append({\n",
    "                \"DateSub\": date_object,\n",
    "                \"Trees\": count,\n",
    "                \"Xcoord\": second_float,\n",
    "                \"Ycoord\": first_float,\n",
    "                \"Report\": file_name_sharepoint\n",
    "            })\n",
    "\n",
    "df = pd.DataFrame(data)\n",
    "rows_with_notrees = df[df['Trees'] == 0]\n",
    "print(\"Done, run next cell\")"
   ]
  },
  {
   "cell_type": "code",
   "execution_count": 15,
   "metadata": {
    "hidden": true
   },
   "outputs": [
    {
     "name": "stdout",
     "output_type": "stream",
     "text": [
      "       DateSub  Trees        Xcoord       Ycoord  \\\n",
      "3   2024-03-14      0   -71.2596993   46.8744583   \n",
      "4   2024-03-14      0   -71.2596313   46.8743814   \n",
      "5   2024-03-14      0   -71.2097285   46.8524902   \n",
      "6   2024-03-14      0   173.4495628  -35.1153435   \n",
      "11  2024-03-24      0    78.4663569   17.4441692   \n",
      "14  2024-03-26      0  -113.3170644   53.5137968   \n",
      "15  2024-03-26      0  -113.3170644   53.5137968   \n",
      "18  2024-03-29      0   -75.2451300   39.4319289   \n",
      "\n",
      "                                                                                                                                                                                                                     Report  \n",
      "3                   <a href = 'https://texasforestservice.sharepoint.com/sites/Share-ForestAnalytics/Documents/Geospatial Systems/Texas Forest Info/TreesCount/20240314152223_Trees Count - 815 Loiret.pdf'>Click Here </a>  \n",
      "4                   <a href = 'https://texasforestservice.sharepoint.com/sites/Share-ForestAnalytics/Documents/Geospatial Systems/Texas Forest Info/TreesCount/20240314160817_Trees Count - 815 Loiret.pdf'>Click Here </a>  \n",
      "5                <a href = 'https://texasforestservice.sharepoint.com/sites/Share-ForestAnalytics/Documents/Geospatial Systems/Texas Forest Info/TreesCount/20240314202433_Trees Count - Projet Loyola.pdf'>Click Here </a>  \n",
      "6              <a href = 'https://texasforestservice.sharepoint.com/sites/Share-ForestAnalytics/Documents/Geospatial Systems/Texas Forest Info/TreesCount/20240314220209_Trees Count - Kitchen woodlot.pdf'>Click Here </a>  \n",
      "11            <a href = 'https://texasforestservice.sharepoint.com/sites/Share-ForestAnalytics/Documents/Geospatial Systems/Texas Forest Info/TreesCount/20240324123549_Trees Count - Mangifera indica.pdf'>Click Here </a>  \n",
      "14                               <a href = 'https://texasforestservice.sharepoint.com/sites/Share-ForestAnalytics/Documents/Geospatial Systems/Texas Forest Info/TreesCount/20240326161104_Trees Count.pdf'>Click Here </a>  \n",
      "15                    <a href = 'https://texasforestservice.sharepoint.com/sites/Share-ForestAnalytics/Documents/Geospatial Systems/Texas Forest Info/TreesCount/20240326164257_Trees Count - Poplar 3.pdf'>Click Here </a>  \n",
      "18  <a href = 'https://texasforestservice.sharepoint.com/sites/Share-ForestAnalytics/Documents/Geospatial Systems/Texas Forest Info/TreesCount/20240329123412_Trees Count - W. Commerce St - Bridgeton.pdf'>Click Here </a>  \n"
     ]
    }
   ],
   "source": [
    "pd.set_option('display.max_columns', None)\n",
    "\n",
    "# Display full content in each column\n",
    "pd.set_option('display.max_colwidth', None)\n",
    "print(rows_with_notrees)"
   ]
  },
  {
   "cell_type": "code",
   "execution_count": 16,
   "metadata": {
    "hidden": true,
    "scrolled": true
   },
   "outputs": [
    {
     "name": "stdout",
     "output_type": "stream",
     "text": [
      "\n",
      "File '<a href = 'https://texasforestservice.sharepoint.com/sites/Share-ForestAnalytics/Documents/Geospatial Systems/Texas Forest Info/TreesCount/20240314152223_Trees Count - 815 Loiret.pdf'>Click Here </a>', Coordinates: (-71.2596993, 46.8744583)\n",
      "Please enter the correct number of trees (0 to delete the row): 1\n",
      "\n",
      "File '<a href = 'https://texasforestservice.sharepoint.com/sites/Share-ForestAnalytics/Documents/Geospatial Systems/Texas Forest Info/TreesCount/20240314160817_Trees Count - 815 Loiret.pdf'>Click Here </a>', Coordinates: (-71.2596313, 46.8743814)\n",
      "Please enter the correct number of trees (0 to delete the row): 1\n",
      "\n",
      "File '<a href = 'https://texasforestservice.sharepoint.com/sites/Share-ForestAnalytics/Documents/Geospatial Systems/Texas Forest Info/TreesCount/20240314202433_Trees Count - Projet Loyola.pdf'>Click Here </a>', Coordinates: (-71.2097285, 46.8524902)\n",
      "Please enter the correct number of trees (0 to delete the row): 1\n",
      "\n",
      "File '<a href = 'https://texasforestservice.sharepoint.com/sites/Share-ForestAnalytics/Documents/Geospatial Systems/Texas Forest Info/TreesCount/20240314220209_Trees Count - Kitchen woodlot.pdf'>Click Here </a>', Coordinates: (173.4495628, -35.1153435)\n",
      "Please enter the correct number of trees (0 to delete the row): 1\n",
      "\n",
      "File '<a href = 'https://texasforestservice.sharepoint.com/sites/Share-ForestAnalytics/Documents/Geospatial Systems/Texas Forest Info/TreesCount/20240324123549_Trees Count - Mangifera indica.pdf'>Click Here </a>', Coordinates: (78.4663569, 17.4441692)\n",
      "Please enter the correct number of trees (0 to delete the row): 1\n",
      "\n",
      "File '<a href = 'https://texasforestservice.sharepoint.com/sites/Share-ForestAnalytics/Documents/Geospatial Systems/Texas Forest Info/TreesCount/20240326161104_Trees Count.pdf'>Click Here </a>', Coordinates: (-113.3170644, 53.5137968)\n",
      "Please enter the correct number of trees (0 to delete the row): 1\n",
      "\n",
      "File '<a href = 'https://texasforestservice.sharepoint.com/sites/Share-ForestAnalytics/Documents/Geospatial Systems/Texas Forest Info/TreesCount/20240326164257_Trees Count - Poplar 3.pdf'>Click Here </a>', Coordinates: (-113.3170644, 53.5137968)\n",
      "Please enter the correct number of trees (0 to delete the row): 1\n",
      "\n",
      "File '<a href = 'https://texasforestservice.sharepoint.com/sites/Share-ForestAnalytics/Documents/Geospatial Systems/Texas Forest Info/TreesCount/20240329123412_Trees Count - W. Commerce St - Bridgeton.pdf'>Click Here </a>', Coordinates: (-75.2451300, 39.4319289)\n",
      "Please enter the correct number of trees (0 to delete the row): 1\n",
      "\n",
      "Updated DataFrame:\n",
      "       DateSub  Trees        Xcoord       Ycoord  \\\n",
      "0   2024-03-12      2   -81.7041103   30.2974628   \n",
      "1   2024-03-12      2   -81.7039771   30.2975525   \n",
      "2   2024-03-14      5   152.8728797  -27.2056215   \n",
      "3   2024-03-14      1   -71.2596993   46.8744583   \n",
      "4   2024-03-14      1   -71.2596313   46.8743814   \n",
      "5   2024-03-14      1   -71.2097285   46.8524902   \n",
      "6   2024-03-14      1   173.4495628  -35.1153435   \n",
      "7   2024-03-19     31  -104.9973634   39.9808780   \n",
      "8   2024-03-20     26   -94.1172279   45.2672641   \n",
      "9   2024-03-21      7  -104.8968882   39.5803113   \n",
      "10  2024-03-21     99  -104.8968882   39.5803113   \n",
      "11  2024-03-24      1    78.4663569   17.4441692   \n",
      "12  2024-03-25      8   -98.5705920   29.4767029   \n",
      "13  2024-03-25      8   -98.5705920   29.4767029   \n",
      "14  2024-03-26      1  -113.3170644   53.5137968   \n",
      "15  2024-03-26      1  -113.3170644   53.5137968   \n",
      "16  2024-03-27      3   -81.6040363   30.4703770   \n",
      "17  2024-03-29      2    -4.0639122   40.7363040   \n",
      "18  2024-03-29      1   -75.2451300   39.4319289   \n",
      "\n",
      "                                                                                                                                                                                                                     Report  \n",
      "0                          <a href = 'https://texasforestservice.sharepoint.com/sites/Share-ForestAnalytics/Documents/Geospatial Systems/Texas Forest Info/TreesCount/20240312195947_Trees Count - Lee.pdf'>Click Here </a>  \n",
      "1                          <a href = 'https://texasforestservice.sharepoint.com/sites/Share-ForestAnalytics/Documents/Geospatial Systems/Texas Forest Info/TreesCount/20240312223156_Trees Count - Lee.pdf'>Click Here </a>  \n",
      "2                         <a href = 'https://texasforestservice.sharepoint.com/sites/Share-ForestAnalytics/Documents/Geospatial Systems/Texas Forest Info/TreesCount/20240314024307_Trees Count - Tree.pdf'>Click Here </a>  \n",
      "3                   <a href = 'https://texasforestservice.sharepoint.com/sites/Share-ForestAnalytics/Documents/Geospatial Systems/Texas Forest Info/TreesCount/20240314152223_Trees Count - 815 Loiret.pdf'>Click Here </a>  \n",
      "4                   <a href = 'https://texasforestservice.sharepoint.com/sites/Share-ForestAnalytics/Documents/Geospatial Systems/Texas Forest Info/TreesCount/20240314160817_Trees Count - 815 Loiret.pdf'>Click Here </a>  \n",
      "5                <a href = 'https://texasforestservice.sharepoint.com/sites/Share-ForestAnalytics/Documents/Geospatial Systems/Texas Forest Info/TreesCount/20240314202433_Trees Count - Projet Loyola.pdf'>Click Here </a>  \n",
      "6              <a href = 'https://texasforestservice.sharepoint.com/sites/Share-ForestAnalytics/Documents/Geospatial Systems/Texas Forest Info/TreesCount/20240314220209_Trees Count - Kitchen woodlot.pdf'>Click Here </a>  \n",
      "7       <a href = 'https://texasforestservice.sharepoint.com/sites/Share-ForestAnalytics/Documents/Geospatial Systems/Texas Forest Info/TreesCount/20240319195920_Trees Count - Wadsworth construction.pdf'>Click Here </a>  \n",
      "8                          <a href = 'https://texasforestservice.sharepoint.com/sites/Share-ForestAnalytics/Documents/Geospatial Systems/Texas Forest Info/TreesCount/20240320193318_Trees Count - 001.pdf'>Click Here </a>  \n",
      "9           <a href = 'https://texasforestservice.sharepoint.com/sites/Share-ForestAnalytics/Documents/Geospatial Systems/Texas Forest Info/TreesCount/20240321002238_Trees Count - Willow Creek HOA 1.pdf'>Click Here </a>  \n",
      "10          <a href = 'https://texasforestservice.sharepoint.com/sites/Share-ForestAnalytics/Documents/Geospatial Systems/Texas Forest Info/TreesCount/20240321235450_Trees Count - Willow Creek HOA 1.pdf'>Click Here </a>  \n",
      "11            <a href = 'https://texasforestservice.sharepoint.com/sites/Share-ForestAnalytics/Documents/Geospatial Systems/Texas Forest Info/TreesCount/20240324123549_Trees Count - Mangifera indica.pdf'>Click Here </a>  \n",
      "12              <a href = 'https://texasforestservice.sharepoint.com/sites/Share-ForestAnalytics/Documents/Geospatial Systems/Texas Forest Info/TreesCount/20240325000632_Trees Count - 526 Lookout Dr.pdf'>Click Here </a>  \n",
      "13              <a href = 'https://texasforestservice.sharepoint.com/sites/Share-ForestAnalytics/Documents/Geospatial Systems/Texas Forest Info/TreesCount/20240325000707_Trees Count - 526 Lookout Dr.pdf'>Click Here </a>  \n",
      "14                               <a href = 'https://texasforestservice.sharepoint.com/sites/Share-ForestAnalytics/Documents/Geospatial Systems/Texas Forest Info/TreesCount/20240326161104_Trees Count.pdf'>Click Here </a>  \n",
      "15                    <a href = 'https://texasforestservice.sharepoint.com/sites/Share-ForestAnalytics/Documents/Geospatial Systems/Texas Forest Info/TreesCount/20240326164257_Trees Count - Poplar 3.pdf'>Click Here </a>  \n",
      "16            <a href = 'https://texasforestservice.sharepoint.com/sites/Share-ForestAnalytics/Documents/Geospatial Systems/Texas Forest Info/TreesCount/20240327200851_Trees Count - Lindsey Crossing.pdf'>Click Here </a>  \n",
      "17                      <a href = 'https://texasforestservice.sharepoint.com/sites/Share-ForestAnalytics/Documents/Geospatial Systems/Texas Forest Info/TreesCount/20240329121620_Trees Count - Araloa.pdf'>Click Here </a>  \n",
      "18  <a href = 'https://texasforestservice.sharepoint.com/sites/Share-ForestAnalytics/Documents/Geospatial Systems/Texas Forest Info/TreesCount/20240329123412_Trees Count - W. Commerce St - Bridgeton.pdf'>Click Here </a>  \n"
     ]
    }
   ],
   "source": [
    "if df['Trees'].eq(0).any():\n",
    "    # Define a function to fix rows with Count == 0\n",
    "    def fix_count(row):\n",
    "        if row['Trees'] == 0:\n",
    "            print(f\"\\nFile '{row['Report']}', Coordinates: ({row['Xcoord']}, {row['Ycoord']})\")\n",
    "            new_count = int(input(\"Please enter the correct number of trees (0 to delete the row): \"))\n",
    "            if new_count == 0:\n",
    "                return None  \n",
    "            return new_count \n",
    "        return row['Trees'] \n",
    "\n",
    "    # Apply the function to iterate through all rows\n",
    "    df['Trees'] = df.apply(fix_count, axis=1)\n",
    "\n",
    "    # Drop rows where Count is None (indicating they should be deleted)\n",
    "    df = df.dropna(subset=['Trees'])\n",
    "\n",
    "    # Display updated DataFrame\n",
    "    print(\"\\nUpdated DataFrame:\")\n",
    "    print(df)\n",
    "else:\n",
    "    print(\"No rows need to be fixed. All counts are non-zero.\")"
   ]
  },
  {
   "cell_type": "code",
   "execution_count": 17,
   "metadata": {
    "hidden": true
   },
   "outputs": [
    {
     "data": {
      "text/html": [
       "<div class='gpresult'><h2>Messages</h2><div id='messages'>Start Time: Friday, September 27, 2024 10:33:42 AM<br>19 row(s) from D:\\\\ArcGIS_Projects\\\\TreesCount\\\\Code\\\\Data\\\\TreesCount.gdb\\\\XYTableToPoint_9_2024 were appended to https://services5.arcgis.com/ELI1iJkCzTIagHkp/arcgis/rest/services/TreesCount_Test/FeatureServer/0<br>Succeeded at Friday, September 27, 2024 10:33:46 AM (Elapsed Time: 3.20 seconds)<br></div><div id = 'default' /></div></div>"
      ],
      "text/plain": [
       "<Result 'TreesCount_Test'>"
      ]
     },
     "execution_count": 17,
     "metadata": {},
     "output_type": "execute_result"
    }
   ],
   "source": [
    "df.to_csv(csv_path)\n",
    "arcpy.management.XYTableToPoint(csv_path, xy_feature, 'Xcoord', 'Ycoord', None, spatial_ref)\n",
    "\n",
    "#Uncomment the one you want to append and comment the other\n",
    "arcpy.management.Append(xy_feature, \"TreesCount\", \"NO_TEST\", update_geometry = \"UPDATE_GEOMETRY\")\n",
    "# arcpy.management.Append(xy_feature, \"TreeRisk\", \"NO_TEST\", update_geometry = \"UPDATE_GEOMETRY\")"
   ]
  },
  {
   "cell_type": "markdown",
   "metadata": {
    "heading_collapsed": true
   },
   "source": [
    "## Tree Risk"
   ]
  },
  {
   "cell_type": "code",
   "execution_count": null,
   "metadata": {
    "hidden": true
   },
   "outputs": [],
   "source": [
    "from datetime import datetime, timedelta\n",
    "import pdfplumber\n",
    "import os\n",
    "import re\n",
    "import pandas as pd\n",
    "arcpy.env.overwriteOutput = True\n",
    "current_time = datetime.now()\n",
    "current_month = current_time.month\n",
    "current_year = current_time.year\n",
    "\n",
    "pdf_dir_risk = r'D:\\ArcGIS_Projects\\TreesCount\\PDFs\\TreeRisk'\n",
    "\n",
    "#empty list for final excel output\n",
    "data = []\n",
    "#variables to combine that creates a link to the sharepoint report\n",
    "base_url = \"https://texasforestservice.sharepoint.com/sites/Share-ForestAnalytics/Documents/Geospatial Systems/Texas Forest Info/TreesCount/\"\n",
    "html_start = \"<a href = \"\n",
    "html_end = \">Click Here </a>\"\n",
    "apos = \"'\"\n",
    "spatial_ref = arcpy.SpatialReference(4326)\n",
    "xy_feature = rf'D:\\ArcGIS_Projects\\TreesCount\\Code\\Data\\TreesCount.gdb\\XYTableToPoint_{current_month}_{current_year}_risk'\n",
    "csv_path = rf'D:\\ArcGIS_Projects\\TreesCount\\{current_month}_{current_year}_risk.csv'"
   ]
  },
  {
   "cell_type": "code",
   "execution_count": null,
   "metadata": {
    "hidden": true
   },
   "outputs": [],
   "source": [
    "#run through the folder and look for pdfs\n",
    "for pdf_file in os.listdir(pdf_dir_risk):\n",
    "    if pdf_file.endswith('.pdf'):\n",
    "        pdf_file_path = os.path.join(pdf_dir_risk, pdf_file)\n",
    "\n",
    "        with pdfplumber.open(pdf_file_path) as pdf:\n",
    "            file_name = os.path.basename(pdf_file)\n",
    "            file_name_sharepoint = html_start + apos + base_url + file_name + apos + html_end   \n",
    "            file_date = file_name[:8]                                                           \n",
    "            date_object = datetime.strptime(file_date, \"%Y%m%d\").date()                         \n",
    "            day_before = date_object - timedelta(days=1)                                        \n",
    "\n",
    "            month = date_object.strftime(\"%m\").lstrip('0')                                      \n",
    "            day = date_object.strftime(\"%d\").lstrip(\"0\")                                        \n",
    "            date_string = f\"{month}/{day}\"                                                      \n",
    "            backwards_date_string = f\"{day}/{month}\"                                            \n",
    "\n",
    "            month_daybefore = day_before.strftime(\"%m\").lstrip('0')                             \n",
    "            day_daybefore = day_before.strftime(\"%d\").lstrip(\"0\")\n",
    "            day_before_string = f\"{month_daybefore}/{day_daybefore}\"\n",
    "            backwards_day_before_string = f\"{day_daybefore}/{month_daybefore}\"\n",
    "\n",
    "            float_pattern = r\"-?\\d{1,3}\\.\\d{3,}\"                                                \n",
    "            count = 0                                                                            \n",
    "            first_float = None                                                                   \n",
    "            second_float = None                                                                  \n",
    "\n",
    "            for page in pdf.pages:\n",
    "                text = page.extract_text()\n",
    "\n",
    "                if date_string in text:                                                            \n",
    "                    count += text.count(date_string)                                               \n",
    "                elif count == 0 and day_before_string in text:\n",
    "                    count += text.count(day_before_string)\n",
    "                elif count == 0 and backwards_date_string in text:\n",
    "                    count += text.count(backwards_date_string)\n",
    "                elif count == 0 and backwards_day_before_string in text:\n",
    "                    count += text.count(backwards_day_before_string)\n",
    "\n",
    "                if page.page_number == 2:                                                           \n",
    "                    float_matches = re.findall(float_pattern, text)\n",
    "\n",
    "                    if len(float_matches) >= 2:\n",
    "                        first_float = float_matches[0]\n",
    "                        second_float = float_matches[1]\n",
    "\n",
    "            # Append the data to the list\n",
    "            data.append({\n",
    "                \"DateSub\": date_object,\n",
    "                \"Trees\": count,\n",
    "                \"Xcoord\": second_float,\n",
    "                \"Ycoord\": first_float,\n",
    "                \"Report\": file_name_sharepoint\n",
    "            })\n",
    "\n",
    "df = pd.DataFrame(data)\n",
    "rows_with_notrees = df[df['Trees'] == 0]\n",
    "print(\"Done, run next cell\")"
   ]
  },
  {
   "cell_type": "code",
   "execution_count": null,
   "metadata": {
    "hidden": true
   },
   "outputs": [],
   "source": [
    "pd.set_option('display.max_columns', None)\n",
    "\n",
    "# Display full content in each column\n",
    "pd.set_option('display.max_colwidth', None)\n",
    "print(rows_with_notrees)"
   ]
  },
  {
   "cell_type": "code",
   "execution_count": null,
   "metadata": {
    "hidden": true
   },
   "outputs": [],
   "source": [
    "if df['Trees'].eq(0).any():\n",
    "    # Define a function to fix rows with Count == 0\n",
    "    def fix_count(row):\n",
    "        if row['Trees'] == 0:\n",
    "            print(f\"\\nFile '{row['Report']}', Coordinates: ({row['Xcoord']}, {row['Ycoord']})\")\n",
    "            new_count = int(input(\"Please enter the correct number of trees (0 to delete the row): \"))\n",
    "            if new_count == 0:\n",
    "                return None  \n",
    "            return new_count \n",
    "        return row['Trees'] \n",
    "\n",
    "    # Apply the function to iterate through all rows\n",
    "    df['Trees'] = df.apply(fix_count, axis=1)\n",
    "\n",
    "    # Drop rows where Count is None (indicating they should be deleted)\n",
    "    df = df.dropna(subset=['Trees'])\n",
    "\n",
    "    # Display updated DataFrame\n",
    "    print(\"\\nUpdated DataFrame:\")\n",
    "    print(df)\n",
    "else:\n",
    "    print(\"No rows need to be fixed. All counts are non-zero.\")"
   ]
  },
  {
   "cell_type": "code",
   "execution_count": null,
   "metadata": {
    "hidden": true
   },
   "outputs": [],
   "source": [
    "df.to_csv(csv_path)\n",
    "arcpy.management.XYTableToPoint(csv_path, xy_feature, 'Xcoord', 'Ycoord', None, spatial_ref)\n",
    "arcpy.management.Append(xy_feature, \"TreeRisk\", \"NO_TEST\", update_geometry = \"UPDATE_GEOMETRY\")"
   ]
  }
 ],
 "metadata": {
  "kernelspec": {
   "display_name": "Python 3 (ipykernel)",
   "language": "python",
   "name": "python3"
  },
  "language_info": {
   "file_extension": ".py",
   "name": "python",
   "version": "3"
  }
 },
 "nbformat": 4,
 "nbformat_minor": 2
}
